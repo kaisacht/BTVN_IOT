{
 "cells": [
  {
   "cell_type": "markdown",
   "metadata": {},
   "source": [
    "## Kết quả thực hiện được hiển thị sau mỗi đoạn code"
   ]
  },
  {
   "cell_type": "code",
   "execution_count": 1,
   "metadata": {},
   "outputs": [],
   "source": [
    "# Khai báo thư viện\n",
    "import requests\n",
    "import json"
   ]
  },
  {
   "cell_type": "markdown",
   "metadata": {},
   "source": [
    "### 1.1 Các request yêu cầu"
   ]
  },
  {
   "cell_type": "code",
   "execution_count": 2,
   "metadata": {},
   "outputs": [],
   "source": [
    "# Cập nhật các trường dữ liệu thủ công\n",
    "request_update_data_1 = 'https://api.thingspeak.com/update?api_key=9A02P5V7R8FHKARB&field1=20&field2=33'\n",
    "# Cập nhật các giá trị bằng file json\n",
    "request_update_data_2 = 'https://api.thingspeak.com/update?api_key=9A02P5V7R8FHKARB'\n",
    "# Lấy kết quả\n",
    "requests_getdata = 'https://api.thingspeak.com/channels/2302587/feeds.json?results=2'"
   ]
  },
  {
   "cell_type": "markdown",
   "metadata": {},
   "source": [
    "### 1.2 Hàm trả về kết quả từ file json"
   ]
  },
  {
   "cell_type": "code",
   "execution_count": 3,
   "metadata": {},
   "outputs": [],
   "source": [
    "def get_data( requests_data):\n",
    "    r = requests.get(requests_data)\n",
    "    data = r.json()\n",
    "    feeds = data['feeds']\n",
    "    for feed in feeds:\n",
    "        field1_value = feed['field1']\n",
    "        field2_value = feed['field2']\n",
    "    return f\"Temperature: {field1_value}, Humidity: {field2_value}\" "
   ]
  },
  {
   "cell_type": "markdown",
   "metadata": {},
   "source": [
    "### 1.3 Cập nhật các trường theo cách 1 thủ công"
   ]
  },
  {
   "cell_type": "code",
   "execution_count": 4,
   "metadata": {},
   "outputs": [
    {
     "name": "stdout",
     "output_type": "stream",
     "text": [
      "Dữ liệu đã được gửi thành công.\n"
     ]
    }
   ],
   "source": [
    "r = requests.get( url= request_update_data_1)\n",
    "if r.status_code == 200:\n",
    "    print(\"Dữ liệu đã được gửi thành công.\")\n",
    "else:\n",
    "    print(\"Có lỗi xảy ra:\", r.status_code)"
   ]
  },
  {
   "cell_type": "markdown",
   "metadata": {},
   "source": [
    "### 1.4 Kết quả trả về sau khi thực hiện"
   ]
  },
  {
   "cell_type": "code",
   "execution_count": 5,
   "metadata": {},
   "outputs": [
    {
     "data": {
      "text/plain": [
       "'Temperature: 20, Humidity: 33'"
      ]
     },
     "execution_count": 5,
     "metadata": {},
     "output_type": "execute_result"
    }
   ],
   "source": [
    "get_data(requests_getdata)"
   ]
  },
  {
   "cell_type": "markdown",
   "metadata": {},
   "source": [
    "### 1.5 Cập nhật các trường bằng cách 2 file json"
   ]
  },
  {
   "cell_type": "code",
   "execution_count": 12,
   "metadata": {},
   "outputs": [
    {
     "name": "stdout",
     "output_type": "stream",
     "text": [
      "Dữ liệu đã được gửi thành công.\n"
     ]
    }
   ],
   "source": [
    "data = {\n",
    "    \"field1\": 60,\n",
    "    \"field2\": 70\n",
    "}\n",
    "\n",
    "json_data = json.dumps( data)\n",
    "# URL của Thingspeak API và khóa API của bạn\n",
    "url = request_update_data_2\n",
    "# Gửi yêu cầu HTTP POST với JSON data\n",
    "response = requests.get(url, data=json_data, headers={'Content-Type': 'application/json'})\n",
    "# Kiểm tra kết quả\n",
    "if response.status_code == 200:\n",
    "    print(\"Dữ liệu đã được gửi thành công.\")\n",
    "else:\n",
    "    print(\"Có lỗi xảy ra:\", response.status_code)"
   ]
  },
  {
   "cell_type": "code",
   "execution_count": 13,
   "metadata": {},
   "outputs": [
    {
     "data": {
      "text/plain": [
       "'Temperature: 60, Humidity: 70'"
      ]
     },
     "execution_count": 13,
     "metadata": {},
     "output_type": "execute_result"
    }
   ],
   "source": [
    "get_data(requests_getdata)"
   ]
  }
 ],
 "metadata": {
  "kernelspec": {
   "display_name": "Python 3",
   "language": "python",
   "name": "python3"
  },
  "language_info": {
   "codemirror_mode": {
    "name": "ipython",
    "version": 3
   },
   "file_extension": ".py",
   "mimetype": "text/x-python",
   "name": "python",
   "nbconvert_exporter": "python",
   "pygments_lexer": "ipython3",
   "version": "3.9.11"
  }
 },
 "nbformat": 4,
 "nbformat_minor": 2
}
